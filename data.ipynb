{
 "cells": [
  {
   "cell_type": "markdown",
   "metadata": {},
   "source": [
    "# Task 1\n",
    "The average sales revenue"
   ]
  },
  {
   "cell_type": "code",
   "execution_count": 4,
   "metadata": {},
   "outputs": [],
   "source": [
    "best_selling_albums = [\n",
    "    {\n",
    "        \"artist\": \"Michael Jackson\",\n",
    "        \"title\": \"Thriller\",\n",
    "        \"year\": 1982,\n",
    "        \"genres\": [\"pop\", \"post-disco\", \"funk\", \"rock\"],\n",
    "        \"sale\": 70000000,\n",
    "    },\n",
    "    {\n",
    "        \"artist\": \"AC/DC\",\n",
    "        \"title\": \"Back in Black\",\n",
    "        \"year\": 1980,\n",
    "        \"genres\": [\"hard rock\"],\n",
    "        \"sale\": 50000000,\n",
    "    },\n",
    "    {\n",
    "        \"artist\": \"Whitney Houston\",\n",
    "        \"title\": \"The Bodyguard\",\n",
    "        \"year\": 1992,\n",
    "        \"genres\": [\"r&b\", \"soul\", \"pop\", \"soundtrack\"],\n",
    "        \"sale\": 45000000,\n",
    "    },\n",
    "    {\n",
    "        \"artist\": \"Pink Floyd\",\n",
    "        \"title\": \"The Dark Side of the Moon\",\n",
    "        \"year\": 1973,\n",
    "        \"genres\": [\"progressive rock\"],\n",
    "        \"sale\": 45000000,\n",
    "    },\n",
    "    {\n",
    "        \"artist\": \"Eagles\",\n",
    "        \"title\": \"Their Greatest Hits (1971 - 1975)\",\n",
    "        \"year\": 1976,\n",
    "        \"genres\": [\"country rock\", \"soft rock\", \"folk rock\"],\n",
    "        \"sale\": 44000000,\n",
    "    },\n",
    "    {\n",
    "        \"artist\": \"Eagles\",\n",
    "        \"title\": \"Hotel California\",\n",
    "        \"year\": 1976,\n",
    "        \"genres\": [\"soft rock\"],\n",
    "        \"sale\": 42000000,\n",
    "    },\n",
    "    {\n",
    "        \"artist\": \"Shania Twain\",\n",
    "        \"title\": \"Come On Over\",\n",
    "        \"year\": 1997,\n",
    "        \"genres\": [\"country\", \"pop\"],\n",
    "        \"sale\": 40000000,\n",
    "    },\n",
    "    {\n",
    "        \"artist\": \"Fleetwood Mac\",\n",
    "        \"title\": \"Rumours\",\n",
    "        \"year\": 1977,\n",
    "        \"genres\": [\"soft rock\"],\n",
    "        \"sale\": 40000000,\n",
    "    },\n",
    "]"
   ]
  },
  {
   "cell_type": "code",
   "execution_count": 5,
   "metadata": {},
   "outputs": [
    {
     "name": "stdout",
     "output_type": "stream",
     "text": [
      "[{'artist': 'Michael Jackson', 'title': 'Thriller', 'year': 1982, 'genres': ['pop', 'post-disco', 'funk', 'rock'], 'sale': 70000000}, {'artist': 'AC/DC', 'title': 'Back in Black', 'year': 1980, 'genres': ['hard rock'], 'sale': 50000000}, {'artist': 'Whitney Houston', 'title': 'The Bodyguard', 'year': 1992, 'genres': ['r&b', 'soul', 'pop', 'soundtrack'], 'sale': 45000000}, {'artist': 'Pink Floyd', 'title': 'The Dark Side of the Moon', 'year': 1973, 'genres': ['progressive rock'], 'sale': 45000000}, {'artist': 'Eagles', 'title': 'Their Greatest Hits (1971 - 1975)', 'year': 1976, 'genres': ['country rock', 'soft rock', 'folk rock'], 'sale': 44000000}, {'artist': 'Eagles', 'title': 'Hotel California', 'year': 1976, 'genres': ['soft rock'], 'sale': 42000000}, {'artist': 'Shania Twain', 'title': 'Come On Over', 'year': 1997, 'genres': ['country', 'pop'], 'sale': 40000000}, {'artist': 'Fleetwood Mac', 'title': 'Rumours', 'year': 1977, 'genres': ['soft rock'], 'sale': 40000000}]\n"
     ]
    }
   ],
   "source": [
    "print(best_selling_albums)"
   ]
  },
  {
   "cell_type": "code",
   "execution_count": 6,
   "metadata": {},
   "outputs": [
    {
     "name": "stdout",
     "output_type": "stream",
     "text": [
      "{'artist': 'Michael Jackson', 'title': 'Thriller', 'year': 1982, 'genres': ['pop', 'post-disco', 'funk', 'rock'], 'sale': 70000000}\n"
     ]
    }
   ],
   "source": [
    "print(best_selling_albums[0])"
   ]
  },
  {
   "cell_type": "code",
   "execution_count": 7,
   "metadata": {},
   "outputs": [
    {
     "name": "stdout",
     "output_type": "stream",
     "text": [
      "70000000\n"
     ]
    }
   ],
   "source": [
    "print(best_selling_albums[0][\"sale\"])"
   ]
  },
  {
   "cell_type": "code",
   "execution_count": 8,
   "metadata": {},
   "outputs": [],
   "source": [
    "sale_sum=best_selling_albums[0][\"sale\"]+best_selling_albums[1][\"sale\"]+best_selling_albums[2][\"sale\"]"
   ]
  },
  {
   "cell_type": "code",
   "execution_count": 9,
   "metadata": {},
   "outputs": [
    {
     "name": "stdout",
     "output_type": "stream",
     "text": [
      "165000000\n"
     ]
    }
   ],
   "source": [
    "print(sale_sum)"
   ]
  },
  {
   "cell_type": "code",
   "execution_count": 10,
   "metadata": {},
   "outputs": [
    {
     "name": "stdout",
     "output_type": "stream",
     "text": [
      "{'artist': 'Michael Jackson', 'title': 'Thriller', 'year': 1982, 'genres': ['pop', 'post-disco', 'funk', 'rock'], 'sale': 70000000}\n",
      "{'artist': 'AC/DC', 'title': 'Back in Black', 'year': 1980, 'genres': ['hard rock'], 'sale': 50000000}\n",
      "{'artist': 'Whitney Houston', 'title': 'The Bodyguard', 'year': 1992, 'genres': ['r&b', 'soul', 'pop', 'soundtrack'], 'sale': 45000000}\n",
      "{'artist': 'Pink Floyd', 'title': 'The Dark Side of the Moon', 'year': 1973, 'genres': ['progressive rock'], 'sale': 45000000}\n",
      "{'artist': 'Eagles', 'title': 'Their Greatest Hits (1971 - 1975)', 'year': 1976, 'genres': ['country rock', 'soft rock', 'folk rock'], 'sale': 44000000}\n",
      "{'artist': 'Eagles', 'title': 'Hotel California', 'year': 1976, 'genres': ['soft rock'], 'sale': 42000000}\n",
      "{'artist': 'Shania Twain', 'title': 'Come On Over', 'year': 1997, 'genres': ['country', 'pop'], 'sale': 40000000}\n",
      "{'artist': 'Fleetwood Mac', 'title': 'Rumours', 'year': 1977, 'genres': ['soft rock'], 'sale': 40000000}\n"
     ]
    }
   ],
   "source": [
    "sales=[]\n",
    "\n",
    "for album in best_selling_albums:\n",
    "    print(album)\n",
    "    sales.append(album[\"sale\"])"
   ]
  },
  {
   "cell_type": "code",
   "execution_count": 11,
   "metadata": {},
   "outputs": [
    {
     "name": "stdout",
     "output_type": "stream",
     "text": [
      "376000000\n"
     ]
    }
   ],
   "source": [
    "print(sum(sales))"
   ]
  },
  {
   "cell_type": "code",
   "execution_count": 12,
   "metadata": {},
   "outputs": [
    {
     "name": "stdout",
     "output_type": "stream",
     "text": [
      "8\n"
     ]
    }
   ],
   "source": [
    "print(len(sales))"
   ]
  },
  {
   "cell_type": "code",
   "execution_count": 14,
   "metadata": {},
   "outputs": [
    {
     "name": "stdout",
     "output_type": "stream",
     "text": [
      "47000000\n"
     ]
    }
   ],
   "source": [
    "avg_sale=sum(sales)//len(sales) \n",
    "print(avg_sale)"
   ]
  },
  {
   "cell_type": "code",
   "execution_count": 15,
   "metadata": {},
   "outputs": [
    {
     "name": "stdout",
     "output_type": "stream",
     "text": [
      "47000000\n"
     ]
    }
   ],
   "source": [
    "avg_sale=sum(sales)//len(sales) \n",
    "print(avg_sale)"
   ]
  },
  {
   "cell_type": "markdown",
   "metadata": {},
   "source": [
    "# Task 2\n",
    "The average age"
   ]
  },
  {
   "cell_type": "code",
   "execution_count": 16,
   "metadata": {},
   "outputs": [],
   "source": [
    "current_year=2024\n"
   ]
  },
  {
   "cell_type": "code",
   "execution_count": 17,
   "metadata": {},
   "outputs": [
    {
     "name": "stdout",
     "output_type": "stream",
     "text": [
      "42\n"
     ]
    }
   ],
   "source": [
    "age=current_year-best_selling_albums[0]['year']\n",
    "print(age)"
   ]
  },
  {
   "cell_type": "code",
   "execution_count": 20,
   "metadata": {},
   "outputs": [
    {
     "name": "stdout",
     "output_type": "stream",
     "text": [
      "42\n",
      "44\n",
      "32\n",
      "51\n",
      "48\n",
      "48\n",
      "27\n",
      "47\n"
     ]
    }
   ],
   "source": [
    "age_list=[]\n",
    "for album in best_selling_albums:\n",
    "    age=current_year-album['year']\n",
    "    age_list.append(age)\n",
    "    print(age)"
   ]
  },
  {
   "cell_type": "code",
   "execution_count": 21,
   "metadata": {},
   "outputs": [
    {
     "name": "stdout",
     "output_type": "stream",
     "text": [
      "[42, 44, 32, 51, 48, 48, 27, 47]\n"
     ]
    }
   ],
   "source": [
    "print(age_list)"
   ]
  },
  {
   "cell_type": "code",
   "execution_count": 22,
   "metadata": {},
   "outputs": [
    {
     "name": "stdout",
     "output_type": "stream",
     "text": [
      "42\n"
     ]
    }
   ],
   "source": [
    "avg_age=sum(age_list)//len(age_list)\n",
    "print(avg_age)"
   ]
  },
  {
   "cell_type": "markdown",
   "metadata": {},
   "source": [
    "# Task 3\n",
    "The oldest and the youngest album"
   ]
  },
  {
   "cell_type": "code",
   "execution_count": 23,
   "metadata": {},
   "outputs": [
    {
     "name": "stdout",
     "output_type": "stream",
     "text": [
      "{'artist': 'Michael Jackson', 'title': 'Thriller', 'year': 1982, 'genres': ['pop', 'post-disco', 'funk', 'rock'], 'sale': 70000000}\n",
      "{'artist': 'AC/DC', 'title': 'Back in Black', 'year': 1980, 'genres': ['hard rock'], 'sale': 50000000}\n",
      "{'artist': 'Whitney Houston', 'title': 'The Bodyguard', 'year': 1992, 'genres': ['r&b', 'soul', 'pop', 'soundtrack'], 'sale': 45000000}\n",
      "{'artist': 'Pink Floyd', 'title': 'The Dark Side of the Moon', 'year': 1973, 'genres': ['progressive rock'], 'sale': 45000000}\n",
      "{'artist': 'Eagles', 'title': 'Their Greatest Hits (1971 - 1975)', 'year': 1976, 'genres': ['country rock', 'soft rock', 'folk rock'], 'sale': 44000000}\n",
      "{'artist': 'Eagles', 'title': 'Hotel California', 'year': 1976, 'genres': ['soft rock'], 'sale': 42000000}\n",
      "{'artist': 'Shania Twain', 'title': 'Come On Over', 'year': 1997, 'genres': ['country', 'pop'], 'sale': 40000000}\n",
      "{'artist': 'Fleetwood Mac', 'title': 'Rumours', 'year': 1977, 'genres': ['soft rock'], 'sale': 40000000}\n"
     ]
    }
   ],
   "source": [
    "for album in best_selling_albums:\n",
    "    print(album)\n",
    "  "
   ]
  },
  {
   "cell_type": "code",
   "execution_count": 24,
   "metadata": {},
   "outputs": [
    {
     "name": "stdout",
     "output_type": "stream",
     "text": [
      "1982\n"
     ]
    }
   ],
   "source": [
    "temp_oldest_year=best_selling_albums[0][\"year\"]\n",
    "print(temp_oldest_year)"
   ]
  },
  {
   "cell_type": "code",
   "execution_count": 25,
   "metadata": {},
   "outputs": [
    {
     "name": "stdout",
     "output_type": "stream",
     "text": [
      "[1982, 1980, 1992, 1973, 1976, 1976, 1997, 1977]\n"
     ]
    }
   ],
   "source": [
    "year_list=[]\n",
    "for album in best_selling_albums:\n",
    "    year_list.append(album[\"year\"])\n",
    "\n",
    "print(year_list)"
   ]
  },
  {
   "cell_type": "code",
   "execution_count": 26,
   "metadata": {},
   "outputs": [
    {
     "name": "stdout",
     "output_type": "stream",
     "text": [
      "1973\n"
     ]
    }
   ],
   "source": [
    "print(min(year_list))"
   ]
  },
  {
   "cell_type": "code",
   "execution_count": 27,
   "metadata": {},
   "outputs": [
    {
     "name": "stdout",
     "output_type": "stream",
     "text": [
      "1997\n"
     ]
    }
   ],
   "source": [
    "print(max(year_list))"
   ]
  },
  {
   "cell_type": "code",
   "execution_count": 28,
   "metadata": {},
   "outputs": [],
   "source": [
    "min_year=min(year_list)\n",
    "max_year=max(year_list)"
   ]
  },
  {
   "cell_type": "code",
   "execution_count": 29,
   "metadata": {},
   "outputs": [
    {
     "name": "stdout",
     "output_type": "stream",
     "text": [
      "Oldest album is:\n",
      "{'artist': 'Pink Floyd', 'title': 'The Dark Side of the Moon', 'year': 1973, 'genres': ['progressive rock'], 'sale': 45000000}\n"
     ]
    }
   ],
   "source": [
    "for album in best_selling_albums:\n",
    "    if album[\"year\"]==min_year:\n",
    "        print(\"Oldest album is:\")\n",
    "        print(album) "
   ]
  },
  {
   "cell_type": "code",
   "execution_count": 30,
   "metadata": {},
   "outputs": [
    {
     "name": "stdout",
     "output_type": "stream",
     "text": [
      "Newest album is:\n",
      "{'artist': 'Shania Twain', 'title': 'Come On Over', 'year': 1997, 'genres': ['country', 'pop'], 'sale': 40000000}\n"
     ]
    }
   ],
   "source": [
    "for album in best_selling_albums:\n",
    "    if album[\"year\"]==max_year:\n",
    "        print(\"Newest album is:\")\n",
    "        print(album)"
   ]
  },
  {
   "cell_type": "markdown",
   "metadata": {},
   "source": [
    "# Task 4\n",
    "Eagles album: The band Eagles has released two albums. Create a new variable 'albumsOfEagles' as a dictionary. Then add the \"sales\" key with the total sales of both albums. Add another key called \"isBothSoftRock\" and set its value to \"true\", comparing the \"soft rock\" genres of both albums."
   ]
  },
  {
   "cell_type": "code",
   "execution_count": 31,
   "metadata": {},
   "outputs": [
    {
     "name": "stdout",
     "output_type": "stream",
     "text": [
      "{'sales': 0, 'is_soft_rock': True}\n"
     ]
    }
   ],
   "source": [
    "eagles_albums={\"sales\":0, \"is_soft_rock\":True}\n",
    "print(eagles_albums)"
   ]
  },
  {
   "cell_type": "code",
   "execution_count": 32,
   "metadata": {},
   "outputs": [
    {
     "name": "stdout",
     "output_type": "stream",
     "text": [
      "{'sales': 86000000, 'is_soft_rock': True}\n"
     ]
    }
   ],
   "source": [
    "for album in best_selling_albums:\n",
    "    if album[\"artist\"]==\"Eagles\":\n",
    "        eagles_albums[\"sales\"]=eagles_albums[\"sales\"]+album[\"sale\"]\n",
    "\n",
    "        if \"soft rock\" in album[\"genres\"]:\n",
    "            eagles_albums[\"is_soft_rock\"]=True\n",
    "        else:\n",
    "            eagles_albums[\"is_soft_rock\"]=False\n",
    "\n",
    "print(eagles_albums)"
   ]
  },
  {
   "cell_type": "code",
   "execution_count": 33,
   "metadata": {},
   "outputs": [
    {
     "name": "stdout",
     "output_type": "stream",
     "text": [
      "['pop', 'post-disco', 'funk', 'rock']\n",
      "['hard rock']\n",
      "['r&b', 'soul', 'pop', 'soundtrack']\n",
      "['progressive rock']\n",
      "['country rock', 'soft rock', 'folk rock']\n",
      "['soft rock']\n",
      "['country', 'pop']\n",
      "['soft rock']\n"
     ]
    }
   ],
   "source": [
    "eagles_albums={\"sales\":0, \"is_soft_rock\":True}\n",
    "\n",
    "for album in best_selling_albums:\n",
    "    print(album[\"genres\"])"
   ]
  },
  {
   "cell_type": "code",
   "execution_count": 34,
   "metadata": {},
   "outputs": [
    {
     "name": "stdout",
     "output_type": "stream",
     "text": [
      "Yes\n"
     ]
    }
   ],
   "source": [
    "test_list=['pop', 'post-disco', 'funk', 'rock']\n",
    "if \"pop\" in test_list:\n",
    "    print(\"Yes\")"
   ]
  },
  {
   "cell_type": "code",
   "execution_count": 35,
   "metadata": {},
   "outputs": [
    {
     "name": "stdout",
     "output_type": "stream",
     "text": [
      "{'artist': 'Eagles', 'title': 'Their Greatest Hits (1971 - 1975)', 'year': 1976, 'genres': ['country rock', 'soft rock', 'folk rock'], 'sale': 44000000}\n",
      "{'artist': 'Eagles', 'title': 'Hotel California', 'year': 1976, 'genres': ['soft rock'], 'sale': 42000000}\n",
      "{'artist': 'Fleetwood Mac', 'title': 'Rumours', 'year': 1977, 'genres': ['soft rock'], 'sale': 40000000}\n"
     ]
    }
   ],
   "source": [
    "eagles_albums={\"sales\":0, \"is_soft_rock\":True}\n",
    "\n",
    "for album in best_selling_albums:\n",
    "    if \"soft rock\" in album[\"genres\"]:\n",
    "        print(album) "
   ]
  },
  {
   "cell_type": "markdown",
   "metadata": {},
   "source": [
    "# Task 5\n",
    "Create a new album"
   ]
  },
  {
   "cell_type": "code",
   "execution_count": 36,
   "metadata": {},
   "outputs": [],
   "source": [
    "my_album= {\n",
    "    \"artist\": \"Blur\",\n",
    "    \"title\": \"Parklife\",\n",
    "    \"year\": 1994, \n",
    "    \"genres\": [\"bit pop\", \"indie rock\", \"alternative rock\"],\n",
    "    \"sale\": 15000000\n",
    "}"
   ]
  },
  {
   "cell_type": "code",
   "execution_count": 39,
   "metadata": {},
   "outputs": [],
   "source": [
    "best_selling_albums.append(my_album)"
   ]
  },
  {
   "cell_type": "code",
   "execution_count": 40,
   "metadata": {},
   "outputs": [],
   "source": [
    "best_selling_albums.insert(1,my_album)"
   ]
  },
  {
   "cell_type": "code",
   "execution_count": 41,
   "metadata": {},
   "outputs": [
    {
     "name": "stdout",
     "output_type": "stream",
     "text": [
      "{'artist': 'Michael Jackson', 'title': 'Thriller', 'year': 1982, 'genres': ['pop', 'post-disco', 'funk', 'rock'], 'sale': 70000000}\n",
      "{'artist': 'Blur', 'title': 'Parklife', 'year': 1994, 'genres': ['bit pop', 'indie rock', 'alternative rock'], 'sale': 15000000}\n",
      "{'artist': 'AC/DC', 'title': 'Back in Black', 'year': 1980, 'genres': ['hard rock'], 'sale': 50000000}\n",
      "{'artist': 'Whitney Houston', 'title': 'The Bodyguard', 'year': 1992, 'genres': ['r&b', 'soul', 'pop', 'soundtrack'], 'sale': 45000000}\n",
      "{'artist': 'Pink Floyd', 'title': 'The Dark Side of the Moon', 'year': 1973, 'genres': ['progressive rock'], 'sale': 45000000}\n",
      "{'artist': 'Eagles', 'title': 'Their Greatest Hits (1971 - 1975)', 'year': 1976, 'genres': ['country rock', 'soft rock', 'folk rock'], 'sale': 44000000}\n",
      "{'artist': 'Eagles', 'title': 'Hotel California', 'year': 1976, 'genres': ['soft rock'], 'sale': 42000000}\n",
      "{'artist': 'Shania Twain', 'title': 'Come On Over', 'year': 1997, 'genres': ['country', 'pop'], 'sale': 40000000}\n",
      "{'artist': 'Fleetwood Mac', 'title': 'Rumours', 'year': 1977, 'genres': ['soft rock'], 'sale': 40000000}\n",
      "{'artist': 'Blur', 'title': 'Parklife', 'year': 1994, 'genres': ['bit pop', 'indie rock', 'alternative rock'], 'sale': 15000000}\n"
     ]
    }
   ],
   "source": [
    "for album in best_selling_albums:\n",
    "    print(album)"
   ]
  },
  {
   "cell_type": "markdown",
   "metadata": {},
   "source": [
    "# Task 6\n",
    "Do i like it or not?"
   ]
  },
  {
   "cell_type": "code",
   "execution_count": 42,
   "metadata": {},
   "outputs": [
    {
     "name": "stdout",
     "output_type": "stream",
     "text": [
      "{'artist': 'Michael Jackson', 'title': 'Thriller', 'year': 1982, 'genres': ['pop', 'post-disco', 'funk', 'rock'], 'sale': 70000000, 'Like_it': True}\n"
     ]
    }
   ],
   "source": [
    "best_selling_albums[0][\"Like_it\"]=True\n",
    "print(best_selling_albums[0])"
   ]
  },
  {
   "cell_type": "code",
   "execution_count": 43,
   "metadata": {},
   "outputs": [
    {
     "name": "stdout",
     "output_type": "stream",
     "text": [
      "{'artist': 'Blur', 'title': 'Parklife', 'year': 1994, 'genres': ['bit pop', 'indie rock', 'alternative rock'], 'sale': 15000000, 'Like_it': True}\n"
     ]
    }
   ],
   "source": [
    "best_selling_albums[1][\"Like_it\"]=True\n",
    "print(best_selling_albums[1])"
   ]
  },
  {
   "cell_type": "code",
   "execution_count": 44,
   "metadata": {},
   "outputs": [
    {
     "name": "stdout",
     "output_type": "stream",
     "text": [
      "{'artist': 'AC/DC', 'title': 'Back in Black', 'year': 1980, 'genres': ['hard rock'], 'sale': 50000000, 'Like_it': False}\n"
     ]
    }
   ],
   "source": [
    "best_selling_albums[2][\"Like_it\"]=False\n",
    "print(best_selling_albums[2])"
   ]
  },
  {
   "cell_type": "code",
   "execution_count": null,
   "metadata": {},
   "outputs": [],
   "source": []
  }
 ],
 "metadata": {
  "kernelspec": {
   "display_name": "Python 3",
   "language": "python",
   "name": "python3"
  },
  "language_info": {
   "codemirror_mode": {
    "name": "ipython",
    "version": 3
   },
   "file_extension": ".py",
   "mimetype": "text/x-python",
   "name": "python",
   "nbconvert_exporter": "python",
   "pygments_lexer": "ipython3",
   "version": "3.12.3"
  }
 },
 "nbformat": 4,
 "nbformat_minor": 2
}
